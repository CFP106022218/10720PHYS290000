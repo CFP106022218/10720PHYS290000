{
 "cells": [
  {
   "cell_type": "code",
   "execution_count": 1,
   "metadata": {},
   "outputs": [
    {
     "name": "stdout",
     "output_type": "stream",
     "text": [
      "嚜燕roject Gutenberg's Alice's Adventures in Wonderland, by Lewis Carroll\n",
      "\n",
      "<class 'str'>\n",
      "\n",
      "\n",
      "This eBook is for the use of anyone anywhere at no cost and with\n",
      "\n",
      "['This', 'eBook', 'is', 'for', 'the', 'use', 'of', 'anyone', 'anywhere', 'at', 'no', 'cost', 'and', 'with']\n",
      "<class 'list'>\n"
     ]
    }
   ],
   "source": [
    "fp = open('Alice.txt','r')\n",
    "\n",
    "#read the first line from the file\n",
    "line = fp.readline()\n",
    "print(line)\n",
    "print(type(line))\n",
    "\n",
    "line = fp.readline()\n",
    "print(line)\n",
    "\n",
    "line = fp.readline()\n",
    "print(line)\n",
    "\n",
    "s = line.split()\n",
    "print(s)\n",
    "print(type(s))\n",
    "\n",
    "#close the file \n",
    "fp.close()"
   ]
  },
  {
   "cell_type": "code",
   "execution_count": 2,
   "metadata": {},
   "outputs": [],
   "source": [
    "fp = open('Alice.txt','r',encoding='UTF-8')\n",
    "\n",
    "line = fp.readline()\n",
    "\n",
    "while line:\n",
    "        \n",
    "     line = fp.readline()\n",
    "     \n",
    "fp.close()"
   ]
  },
  {
   "cell_type": "code",
   "execution_count": 3,
   "metadata": {},
   "outputs": [
    {
     "name": "stdout",
     "output_type": "stream",
     "text": [
      "6331\n"
     ]
    },
    {
     "data": {
      "image/png": "[encoded data removed]",
      "text/plain": [
       "<matplotlib.figure.Figure at 0x2ecff1ce7f0>"
      ]
     },
     "metadata": {},
     "output_type": "display_data"
    }
   ],
   "source": [
    "import math\n",
    "import matplotlib.pyplot as plt \n",
    "import numpy as np\n",
    "\n",
    "fp = open('Alice.txt','r',encoding='UTF-8')\n",
    "line = fp.readline()\n",
    "my_dict = {}\n",
    "\n",
    "while line:\n",
    "    s = line.split()\n",
    "    for x in s:\n",
    "        if x not in my_dict:\n",
    "             my_dict[x] = 1\n",
    "        else:\n",
    "             my_dict[x] += 1\n",
    "    line = fp.readline()\n",
    "    \n",
    "fp.close()\n",
    "\n",
    "num = []\n",
    "\n",
    "for key in my_dict:\n",
    "    num.append(my_dict[key])\n",
    "\n",
    "print(len(num))\n",
    "num.sort()\n",
    "num.reverse()\n",
    "\n",
    "plt.loglog(range(len(num)),num)\n",
    "plt.xlabel('Rank of the word')\n",
    "plt.ylabel('Number of the occurance')\n",
    "plt.show()"
   ]
  },
  {
   "cell_type": "code",
   "execution_count": 22,
   "metadata": {},
   "outputs": [
    {
     "name": "stdout",
     "output_type": "stream",
     "text": [
      "2.49853378778 -3.10207178643\n"
     ]
    },
    {
     "data": {
      "image/png": "[encoded data removed]",
      "text/plain": [
       "<matplotlib.figure.Figure at 0x2ec8c817f60>"
      ]
     },
     "metadata": {},
     "output_type": "display_data"
    },
    {
     "data": {
      "image/png": "[encoded data removed]",
      "text/plain": [
       "<matplotlib.figure.Figure at 0x2ec8c836278>"
      ]
     },
     "metadata": {},
     "output_type": "display_data"
    }
   ],
   "source": [
    "lognum=np.log(num)\n",
    "b=plt.hist(lognum,bins=40)\n",
    "\n",
    "\n",
    "dx=(b[1][1]-b[1][0])\n",
    "bin_center=np.array(b[1][0:-1])+dx/2\n",
    "\n",
    "\n",
    "from scipy import optimize\n",
    "\n",
    "def test_func(x,amp,alpha):\n",
    "    return amp*x**alpha\n",
    "\n",
    "params, params_covariance = optimize.curve_fit(test_func, bin_center,b[0])\n",
    "print(params[0],params[1])\n",
    "plt.show()\n",
    "\n",
    "plt.plot(bin_center, test_func(bin_center, params[0],params[1]), \"r*\", label=\"fitted function\")\n",
    "\n",
    "plt.xlabel(\"Rank of the world\")\n",
    "plt.ylabel(\"Number of the occurance\")\n",
    "plt.show()"
   ]
  },
  {
   "cell_type": "code",
   "execution_count": null,
   "metadata": {},
   "outputs": [],
   "source": []
  },
  {
   "cell_type": "code",
   "execution_count": null,
   "metadata": {},
   "outputs": [],
   "source": []
  }
 ],
 "metadata": {
  "kernelspec": {
   "display_name": "Python 3",
   "language": "python",
   "name": "python3"
  },
  "language_info": {
   "codemirror_mode": {
    "name": "ipython",
    "version": 3
   },
   "file_extension": ".py",
   "mimetype": "text/x-python",
   "name": "python",
   "nbconvert_exporter": "python",
   "pygments_lexer": "ipython3",
   "version": "3.6.3"
  }
 },
 "nbformat": 4,
 "nbformat_minor": 2
}
